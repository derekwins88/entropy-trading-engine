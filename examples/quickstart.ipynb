{
 "cells": [
  {
   "cell_type": "markdown",
   "metadata": {},
   "source": [
    "# EntropyLab Quickstart ⚡\n",
    "Backtest SPY in under a minute. If `entropylab` is installed, we’ll use it; otherwise we’ll run a tiny fallback to demonstrate the flow."
   ]
  },
  {
   "cell_type": "code",
   "execution_count": null,
   "metadata": {},
   "outputs": [],
   "source": [
    "import sys, subprocess, importlib\n",
    "def pip_install(pkg):\n",
    "    subprocess.check_call([sys.executable, '-m', 'pip', 'install', pkg])\n",
    "\n",
    "try:\n",
    "    import yfinance as yf\n",
    "except Exception:\n",
    "    pip_install('yfinance>=0.2.40')\n",
    "    import yfinance as yf\n",
    "import pandas as pd\n",
    "import numpy as np\n",
    "from datetime import datetime\n",
    "\n",
    "start = '2020-01-01'\n",
    "end = '2020-12-31'\n",
    "spy = yf.download('SPY', start=start, end=end, auto_adjust=True)\n",
    "prices = spy['Close'].dropna()\n",
    "prices.head()"
   ]
  },
  {
   "cell_type": "code",
   "execution_count": null,
   "metadata": {},
   "outputs": [],
   "source": [
    "def fallback_backtest(prices: pd.Series, risk_free=0.0):\n",
    "    rets = prices.pct_change().dropna()\n",
    "    if rets.std() == 0:\n",
    "        sharpe = 0.0\n",
    "    else:\n",
    "        sharpe = ((rets.mean() - risk_free/252) / rets.std()) * np.sqrt(252)\n",
    "    nav = (1 + rets).cumprod()\n",
    "    print(f\"Sharpe (fallback): {sharpe:.2f}\")\n",
    "    return {\n",
    "        'sharpe': float(sharpe),\n",
    "        'final_return': float(nav.iloc[-1] - 1)\n",
    "    }\n",
    "\n",
    "try:\n",
    "    entropylab = importlib.import_module('entropylab')\n",
    "    if hasattr(entropylab, 'backtest'):\n",
    "        result = entropylab.backtest(prices)  # expected to print/return Sharpe\n",
    "        print('Sharpe (entropylab):', getattr(result, 'sharpe', result))\n",
    "    else:\n",
    "        result = fallback_backtest(prices)\n",
    "except Exception as e:\n",
    "    print('[Info] entropylab not found or backtest() missing, using fallback.')\n",
    "    result = fallback_backtest(prices)\n",
    "result"
   ]
  },
  {
   "cell_type": "markdown",
   "metadata": {},
   "source": [
    "### 🚀 Want to plug this into Interactive Brokers automatically?  \n",
    "**Upgrade to EntropyLab Pro ($299 one-time)**"
   ]
  }
 ],
 "metadata": {
  "kernelspec": {
   "display_name": "Python 3",
   "language": "python",
   "name": "python3"
  },
  "language_info": {
   "name": "python",
   "version": "3.10"
  }
 },
 "nbformat": 4,
 "nbformat_minor": 5
}
